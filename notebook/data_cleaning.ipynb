{
 "cells": [
  {
   "cell_type": "code",
   "execution_count": 80,
   "metadata": {},
   "outputs": [],
   "source": [
    "import pandas as pd\n",
    "import matplotlib.pyplot as plt"
   ]
  },
  {
   "cell_type": "code",
   "execution_count": 3,
   "metadata": {},
   "outputs": [],
   "source": [
    "df = pd.read_csv('../mobile_data/screen_table.csv', header=None)"
   ]
  },
  {
   "cell_type": "code",
   "execution_count": 4,
   "metadata": {},
   "outputs": [
    {
     "data": {
      "text/html": [
       "<div>\n",
       "<style scoped>\n",
       "    .dataframe tbody tr th:only-of-type {\n",
       "        vertical-align: middle;\n",
       "    }\n",
       "\n",
       "    .dataframe tbody tr th {\n",
       "        vertical-align: top;\n",
       "    }\n",
       "\n",
       "    .dataframe thead th {\n",
       "        text-align: right;\n",
       "    }\n",
       "</style>\n",
       "<table border=\"1\" class=\"dataframe\">\n",
       "  <thead>\n",
       "    <tr style=\"text-align: right;\">\n",
       "      <th></th>\n",
       "      <th>0</th>\n",
       "      <th>1</th>\n",
       "      <th>2</th>\n",
       "      <th>3</th>\n",
       "    </tr>\n",
       "  </thead>\n",
       "  <tbody>\n",
       "    <tr>\n",
       "      <th>0</th>\n",
       "      <td>1</td>\n",
       "      <td>1538939556498</td>\n",
       "      <td>d8a906ae-3269-4014-a117-8157c29ce5d5</td>\n",
       "      <td>0</td>\n",
       "    </tr>\n",
       "    <tr>\n",
       "      <th>1</th>\n",
       "      <td>2</td>\n",
       "      <td>1538939811461</td>\n",
       "      <td>d8a906ae-3269-4014-a117-8157c29ce5d5</td>\n",
       "      <td>1</td>\n",
       "    </tr>\n",
       "    <tr>\n",
       "      <th>2</th>\n",
       "      <td>3</td>\n",
       "      <td>1538939821700</td>\n",
       "      <td>d8a906ae-3269-4014-a117-8157c29ce5d5</td>\n",
       "      <td>0</td>\n",
       "    </tr>\n",
       "    <tr>\n",
       "      <th>3</th>\n",
       "      <td>4</td>\n",
       "      <td>1538939821711</td>\n",
       "      <td>d8a906ae-3269-4014-a117-8157c29ce5d5</td>\n",
       "      <td>2</td>\n",
       "    </tr>\n",
       "    <tr>\n",
       "      <th>4</th>\n",
       "      <td>5</td>\n",
       "      <td>1538939914542</td>\n",
       "      <td>d8a906ae-3269-4014-a117-8157c29ce5d5</td>\n",
       "      <td>1</td>\n",
       "    </tr>\n",
       "  </tbody>\n",
       "</table>\n",
       "</div>"
      ],
      "text/plain": [
       "   0              1                                     2  3\n",
       "0  1  1538939556498  d8a906ae-3269-4014-a117-8157c29ce5d5  0\n",
       "1  2  1538939811461  d8a906ae-3269-4014-a117-8157c29ce5d5  1\n",
       "2  3  1538939821700  d8a906ae-3269-4014-a117-8157c29ce5d5  0\n",
       "3  4  1538939821711  d8a906ae-3269-4014-a117-8157c29ce5d5  2\n",
       "4  5  1538939914542  d8a906ae-3269-4014-a117-8157c29ce5d5  1"
      ]
     },
     "execution_count": 4,
     "metadata": {},
     "output_type": "execute_result"
    }
   ],
   "source": [
    "df.head()"
   ]
  },
  {
   "cell_type": "code",
   "execution_count": 5,
   "metadata": {},
   "outputs": [],
   "source": [
    "screen_stats = {0: 'off', 1: 'on', 2: 'locked', 3: 'unlocked'}"
   ]
  },
  {
   "cell_type": "code",
   "execution_count": 6,
   "metadata": {},
   "outputs": [],
   "source": [
    "df[3] = df[3].map(lambda x: screen_stats[x])"
   ]
  },
  {
   "cell_type": "code",
   "execution_count": 7,
   "metadata": {},
   "outputs": [
    {
     "data": {
      "text/html": [
       "<div>\n",
       "<style scoped>\n",
       "    .dataframe tbody tr th:only-of-type {\n",
       "        vertical-align: middle;\n",
       "    }\n",
       "\n",
       "    .dataframe tbody tr th {\n",
       "        vertical-align: top;\n",
       "    }\n",
       "\n",
       "    .dataframe thead th {\n",
       "        text-align: right;\n",
       "    }\n",
       "</style>\n",
       "<table border=\"1\" class=\"dataframe\">\n",
       "  <thead>\n",
       "    <tr style=\"text-align: right;\">\n",
       "      <th></th>\n",
       "      <th>0</th>\n",
       "      <th>1</th>\n",
       "      <th>2</th>\n",
       "      <th>3</th>\n",
       "    </tr>\n",
       "  </thead>\n",
       "  <tbody>\n",
       "    <tr>\n",
       "      <th>0</th>\n",
       "      <td>1</td>\n",
       "      <td>1538939556498</td>\n",
       "      <td>d8a906ae-3269-4014-a117-8157c29ce5d5</td>\n",
       "      <td>off</td>\n",
       "    </tr>\n",
       "    <tr>\n",
       "      <th>1</th>\n",
       "      <td>2</td>\n",
       "      <td>1538939811461</td>\n",
       "      <td>d8a906ae-3269-4014-a117-8157c29ce5d5</td>\n",
       "      <td>on</td>\n",
       "    </tr>\n",
       "    <tr>\n",
       "      <th>2</th>\n",
       "      <td>3</td>\n",
       "      <td>1538939821700</td>\n",
       "      <td>d8a906ae-3269-4014-a117-8157c29ce5d5</td>\n",
       "      <td>off</td>\n",
       "    </tr>\n",
       "    <tr>\n",
       "      <th>3</th>\n",
       "      <td>4</td>\n",
       "      <td>1538939821711</td>\n",
       "      <td>d8a906ae-3269-4014-a117-8157c29ce5d5</td>\n",
       "      <td>locked</td>\n",
       "    </tr>\n",
       "    <tr>\n",
       "      <th>4</th>\n",
       "      <td>5</td>\n",
       "      <td>1538939914542</td>\n",
       "      <td>d8a906ae-3269-4014-a117-8157c29ce5d5</td>\n",
       "      <td>on</td>\n",
       "    </tr>\n",
       "  </tbody>\n",
       "</table>\n",
       "</div>"
      ],
      "text/plain": [
       "   0              1                                     2       3\n",
       "0  1  1538939556498  d8a906ae-3269-4014-a117-8157c29ce5d5     off\n",
       "1  2  1538939811461  d8a906ae-3269-4014-a117-8157c29ce5d5      on\n",
       "2  3  1538939821700  d8a906ae-3269-4014-a117-8157c29ce5d5     off\n",
       "3  4  1538939821711  d8a906ae-3269-4014-a117-8157c29ce5d5  locked\n",
       "4  5  1538939914542  d8a906ae-3269-4014-a117-8157c29ce5d5      on"
      ]
     },
     "execution_count": 7,
     "metadata": {},
     "output_type": "execute_result"
    }
   ],
   "source": [
    "df.head()"
   ]
  },
  {
   "cell_type": "code",
   "execution_count": 13,
   "metadata": {},
   "outputs": [],
   "source": [
    "df[1] = df[1].map(lambda x: pd.to_datetime(x, unit='ms'))"
   ]
  },
  {
   "cell_type": "code",
   "execution_count": 14,
   "metadata": {},
   "outputs": [
    {
     "data": {
      "text/html": [
       "<div>\n",
       "<style scoped>\n",
       "    .dataframe tbody tr th:only-of-type {\n",
       "        vertical-align: middle;\n",
       "    }\n",
       "\n",
       "    .dataframe tbody tr th {\n",
       "        vertical-align: top;\n",
       "    }\n",
       "\n",
       "    .dataframe thead th {\n",
       "        text-align: right;\n",
       "    }\n",
       "</style>\n",
       "<table border=\"1\" class=\"dataframe\">\n",
       "  <thead>\n",
       "    <tr style=\"text-align: right;\">\n",
       "      <th></th>\n",
       "      <th>0</th>\n",
       "      <th>1</th>\n",
       "      <th>2</th>\n",
       "      <th>3</th>\n",
       "    </tr>\n",
       "  </thead>\n",
       "  <tbody>\n",
       "    <tr>\n",
       "      <th>0</th>\n",
       "      <td>1</td>\n",
       "      <td>2018-10-07 19:12:36.498</td>\n",
       "      <td>d8a906ae-3269-4014-a117-8157c29ce5d5</td>\n",
       "      <td>off</td>\n",
       "    </tr>\n",
       "    <tr>\n",
       "      <th>1</th>\n",
       "      <td>2</td>\n",
       "      <td>2018-10-07 19:16:51.461</td>\n",
       "      <td>d8a906ae-3269-4014-a117-8157c29ce5d5</td>\n",
       "      <td>on</td>\n",
       "    </tr>\n",
       "    <tr>\n",
       "      <th>2</th>\n",
       "      <td>3</td>\n",
       "      <td>2018-10-07 19:17:01.700</td>\n",
       "      <td>d8a906ae-3269-4014-a117-8157c29ce5d5</td>\n",
       "      <td>off</td>\n",
       "    </tr>\n",
       "    <tr>\n",
       "      <th>3</th>\n",
       "      <td>4</td>\n",
       "      <td>2018-10-07 19:17:01.711</td>\n",
       "      <td>d8a906ae-3269-4014-a117-8157c29ce5d5</td>\n",
       "      <td>locked</td>\n",
       "    </tr>\n",
       "    <tr>\n",
       "      <th>4</th>\n",
       "      <td>5</td>\n",
       "      <td>2018-10-07 19:18:34.542</td>\n",
       "      <td>d8a906ae-3269-4014-a117-8157c29ce5d5</td>\n",
       "      <td>on</td>\n",
       "    </tr>\n",
       "  </tbody>\n",
       "</table>\n",
       "</div>"
      ],
      "text/plain": [
       "   0                       1                                     2       3\n",
       "0  1 2018-10-07 19:12:36.498  d8a906ae-3269-4014-a117-8157c29ce5d5     off\n",
       "1  2 2018-10-07 19:16:51.461  d8a906ae-3269-4014-a117-8157c29ce5d5      on\n",
       "2  3 2018-10-07 19:17:01.700  d8a906ae-3269-4014-a117-8157c29ce5d5     off\n",
       "3  4 2018-10-07 19:17:01.711  d8a906ae-3269-4014-a117-8157c29ce5d5  locked\n",
       "4  5 2018-10-07 19:18:34.542  d8a906ae-3269-4014-a117-8157c29ce5d5      on"
      ]
     },
     "execution_count": 14,
     "metadata": {},
     "output_type": "execute_result"
    }
   ],
   "source": [
    "df.head()"
   ]
  },
  {
   "cell_type": "code",
   "execution_count": 16,
   "metadata": {},
   "outputs": [],
   "source": [
    "df.columns = ['id', 'timestamp', 'device_id', 'screen_status']"
   ]
  },
  {
   "cell_type": "code",
   "execution_count": 17,
   "metadata": {},
   "outputs": [],
   "source": [
    "df.to_csv('../mobile_data/screen_table_processed.csv', index=False)"
   ]
  },
  {
   "cell_type": "code",
   "execution_count": 18,
   "metadata": {},
   "outputs": [],
   "source": [
    "sdf = pd.read_csv('../mobile_data/significant_table.csv', header=None)"
   ]
  },
  {
   "cell_type": "code",
   "execution_count": 20,
   "metadata": {},
   "outputs": [
    {
     "data": {
      "text/html": [
       "<div>\n",
       "<style scoped>\n",
       "    .dataframe tbody tr th:only-of-type {\n",
       "        vertical-align: middle;\n",
       "    }\n",
       "\n",
       "    .dataframe tbody tr th {\n",
       "        vertical-align: top;\n",
       "    }\n",
       "\n",
       "    .dataframe thead th {\n",
       "        text-align: right;\n",
       "    }\n",
       "</style>\n",
       "<table border=\"1\" class=\"dataframe\">\n",
       "  <thead>\n",
       "    <tr style=\"text-align: right;\">\n",
       "      <th></th>\n",
       "      <th>0</th>\n",
       "      <th>1</th>\n",
       "      <th>2</th>\n",
       "      <th>3</th>\n",
       "    </tr>\n",
       "  </thead>\n",
       "  <tbody>\n",
       "    <tr>\n",
       "      <th>0</th>\n",
       "      <td>1</td>\n",
       "      <td>1538939811718</td>\n",
       "      <td>d8a906ae-3269-4014-a117-8157c29ce5d5</td>\n",
       "      <td>1</td>\n",
       "    </tr>\n",
       "    <tr>\n",
       "      <th>1</th>\n",
       "      <td>2</td>\n",
       "      <td>1538939814714</td>\n",
       "      <td>d8a906ae-3269-4014-a117-8157c29ce5d5</td>\n",
       "      <td>0</td>\n",
       "    </tr>\n",
       "    <tr>\n",
       "      <th>2</th>\n",
       "      <td>3</td>\n",
       "      <td>1538939858293</td>\n",
       "      <td>d8a906ae-3269-4014-a117-8157c29ce5d5</td>\n",
       "      <td>1</td>\n",
       "    </tr>\n",
       "    <tr>\n",
       "      <th>3</th>\n",
       "      <td>4</td>\n",
       "      <td>1538939862533</td>\n",
       "      <td>d8a906ae-3269-4014-a117-8157c29ce5d5</td>\n",
       "      <td>0</td>\n",
       "    </tr>\n",
       "    <tr>\n",
       "      <th>4</th>\n",
       "      <td>5</td>\n",
       "      <td>1538939913665</td>\n",
       "      <td>d8a906ae-3269-4014-a117-8157c29ce5d5</td>\n",
       "      <td>1</td>\n",
       "    </tr>\n",
       "  </tbody>\n",
       "</table>\n",
       "</div>"
      ],
      "text/plain": [
       "   0              1                                     2  3\n",
       "0  1  1538939811718  d8a906ae-3269-4014-a117-8157c29ce5d5  1\n",
       "1  2  1538939814714  d8a906ae-3269-4014-a117-8157c29ce5d5  0\n",
       "2  3  1538939858293  d8a906ae-3269-4014-a117-8157c29ce5d5  1\n",
       "3  4  1538939862533  d8a906ae-3269-4014-a117-8157c29ce5d5  0\n",
       "4  5  1538939913665  d8a906ae-3269-4014-a117-8157c29ce5d5  1"
      ]
     },
     "execution_count": 20,
     "metadata": {},
     "output_type": "execute_result"
    }
   ],
   "source": [
    "sdf.head()"
   ]
  },
  {
   "cell_type": "code",
   "execution_count": 22,
   "metadata": {},
   "outputs": [],
   "source": [
    "sdf.columns = ['id', 'timestamp', 'device_id', 'is_moving']\n",
    "sdf['timestamp'] = sdf.timestamp.map(lambda x: pd.to_datetime(x, unit='ms'))"
   ]
  },
  {
   "cell_type": "code",
   "execution_count": 23,
   "metadata": {},
   "outputs": [
    {
     "data": {
      "text/html": [
       "<div>\n",
       "<style scoped>\n",
       "    .dataframe tbody tr th:only-of-type {\n",
       "        vertical-align: middle;\n",
       "    }\n",
       "\n",
       "    .dataframe tbody tr th {\n",
       "        vertical-align: top;\n",
       "    }\n",
       "\n",
       "    .dataframe thead th {\n",
       "        text-align: right;\n",
       "    }\n",
       "</style>\n",
       "<table border=\"1\" class=\"dataframe\">\n",
       "  <thead>\n",
       "    <tr style=\"text-align: right;\">\n",
       "      <th></th>\n",
       "      <th>id</th>\n",
       "      <th>timestamp</th>\n",
       "      <th>device_id</th>\n",
       "      <th>is_moving</th>\n",
       "    </tr>\n",
       "  </thead>\n",
       "  <tbody>\n",
       "    <tr>\n",
       "      <th>0</th>\n",
       "      <td>1</td>\n",
       "      <td>2018-10-07 19:16:51.718</td>\n",
       "      <td>d8a906ae-3269-4014-a117-8157c29ce5d5</td>\n",
       "      <td>1</td>\n",
       "    </tr>\n",
       "    <tr>\n",
       "      <th>1</th>\n",
       "      <td>2</td>\n",
       "      <td>2018-10-07 19:16:54.714</td>\n",
       "      <td>d8a906ae-3269-4014-a117-8157c29ce5d5</td>\n",
       "      <td>0</td>\n",
       "    </tr>\n",
       "    <tr>\n",
       "      <th>2</th>\n",
       "      <td>3</td>\n",
       "      <td>2018-10-07 19:17:38.293</td>\n",
       "      <td>d8a906ae-3269-4014-a117-8157c29ce5d5</td>\n",
       "      <td>1</td>\n",
       "    </tr>\n",
       "    <tr>\n",
       "      <th>3</th>\n",
       "      <td>4</td>\n",
       "      <td>2018-10-07 19:17:42.533</td>\n",
       "      <td>d8a906ae-3269-4014-a117-8157c29ce5d5</td>\n",
       "      <td>0</td>\n",
       "    </tr>\n",
       "    <tr>\n",
       "      <th>4</th>\n",
       "      <td>5</td>\n",
       "      <td>2018-10-07 19:18:33.665</td>\n",
       "      <td>d8a906ae-3269-4014-a117-8157c29ce5d5</td>\n",
       "      <td>1</td>\n",
       "    </tr>\n",
       "  </tbody>\n",
       "</table>\n",
       "</div>"
      ],
      "text/plain": [
       "   id               timestamp                             device_id  is_moving\n",
       "0   1 2018-10-07 19:16:51.718  d8a906ae-3269-4014-a117-8157c29ce5d5          1\n",
       "1   2 2018-10-07 19:16:54.714  d8a906ae-3269-4014-a117-8157c29ce5d5          0\n",
       "2   3 2018-10-07 19:17:38.293  d8a906ae-3269-4014-a117-8157c29ce5d5          1\n",
       "3   4 2018-10-07 19:17:42.533  d8a906ae-3269-4014-a117-8157c29ce5d5          0\n",
       "4   5 2018-10-07 19:18:33.665  d8a906ae-3269-4014-a117-8157c29ce5d5          1"
      ]
     },
     "execution_count": 23,
     "metadata": {},
     "output_type": "execute_result"
    }
   ],
   "source": [
    "sdf.head()"
   ]
  },
  {
   "cell_type": "code",
   "execution_count": 24,
   "metadata": {},
   "outputs": [],
   "source": [
    "sdf.to_csv('../mobile_data/significant_processed.csv', index=None)"
   ]
  },
  {
   "cell_type": "code",
   "execution_count": 27,
   "metadata": {},
   "outputs": [],
   "source": [
    "bdf = pd.read_csv('../mobile_data/battery_table.csv', header=None)"
   ]
  },
  {
   "cell_type": "code",
   "execution_count": 28,
   "metadata": {},
   "outputs": [
    {
     "data": {
      "text/html": [
       "<div>\n",
       "<style scoped>\n",
       "    .dataframe tbody tr th:only-of-type {\n",
       "        vertical-align: middle;\n",
       "    }\n",
       "\n",
       "    .dataframe tbody tr th {\n",
       "        vertical-align: top;\n",
       "    }\n",
       "\n",
       "    .dataframe thead th {\n",
       "        text-align: right;\n",
       "    }\n",
       "</style>\n",
       "<table border=\"1\" class=\"dataframe\">\n",
       "  <thead>\n",
       "    <tr style=\"text-align: right;\">\n",
       "      <th></th>\n",
       "      <th>0</th>\n",
       "      <th>1</th>\n",
       "      <th>2</th>\n",
       "      <th>3</th>\n",
       "      <th>4</th>\n",
       "      <th>5</th>\n",
       "      <th>6</th>\n",
       "      <th>7</th>\n",
       "      <th>8</th>\n",
       "      <th>9</th>\n",
       "      <th>10</th>\n",
       "    </tr>\n",
       "  </thead>\n",
       "  <tbody>\n",
       "    <tr>\n",
       "      <th>0</th>\n",
       "      <td>1</td>\n",
       "      <td>1538939499373</td>\n",
       "      <td>d8a906ae-3269-4014-a117-8157c29ce5d5</td>\n",
       "      <td>3</td>\n",
       "      <td>34</td>\n",
       "      <td>100</td>\n",
       "      <td>3726</td>\n",
       "      <td>28</td>\n",
       "      <td>0</td>\n",
       "      <td>2</td>\n",
       "      <td>Li-ion</td>\n",
       "    </tr>\n",
       "    <tr>\n",
       "      <th>1</th>\n",
       "      <td>2</td>\n",
       "      <td>1538939670153</td>\n",
       "      <td>d8a906ae-3269-4014-a117-8157c29ce5d5</td>\n",
       "      <td>3</td>\n",
       "      <td>33</td>\n",
       "      <td>100</td>\n",
       "      <td>3772</td>\n",
       "      <td>26</td>\n",
       "      <td>0</td>\n",
       "      <td>2</td>\n",
       "      <td>Li-ion</td>\n",
       "    </tr>\n",
       "    <tr>\n",
       "      <th>2</th>\n",
       "      <td>3</td>\n",
       "      <td>1538940049408</td>\n",
       "      <td>d8a906ae-3269-4014-a117-8157c29ce5d5</td>\n",
       "      <td>3</td>\n",
       "      <td>32</td>\n",
       "      <td>100</td>\n",
       "      <td>3718</td>\n",
       "      <td>26</td>\n",
       "      <td>0</td>\n",
       "      <td>2</td>\n",
       "      <td>Li-ion</td>\n",
       "    </tr>\n",
       "    <tr>\n",
       "      <th>3</th>\n",
       "      <td>4</td>\n",
       "      <td>1538940205968</td>\n",
       "      <td>d8a906ae-3269-4014-a117-8157c29ce5d5</td>\n",
       "      <td>3</td>\n",
       "      <td>31</td>\n",
       "      <td>100</td>\n",
       "      <td>3680</td>\n",
       "      <td>28</td>\n",
       "      <td>0</td>\n",
       "      <td>2</td>\n",
       "      <td>Li-ion</td>\n",
       "    </tr>\n",
       "    <tr>\n",
       "      <th>4</th>\n",
       "      <td>5</td>\n",
       "      <td>1538940657484</td>\n",
       "      <td>d8a906ae-3269-4014-a117-8157c29ce5d5</td>\n",
       "      <td>3</td>\n",
       "      <td>30</td>\n",
       "      <td>100</td>\n",
       "      <td>3755</td>\n",
       "      <td>24</td>\n",
       "      <td>0</td>\n",
       "      <td>2</td>\n",
       "      <td>Li-ion</td>\n",
       "    </tr>\n",
       "  </tbody>\n",
       "</table>\n",
       "</div>"
      ],
      "text/plain": [
       "   0              1                                     2   3   4    5     6   \\\n",
       "0   1  1538939499373  d8a906ae-3269-4014-a117-8157c29ce5d5   3  34  100  3726   \n",
       "1   2  1538939670153  d8a906ae-3269-4014-a117-8157c29ce5d5   3  33  100  3772   \n",
       "2   3  1538940049408  d8a906ae-3269-4014-a117-8157c29ce5d5   3  32  100  3718   \n",
       "3   4  1538940205968  d8a906ae-3269-4014-a117-8157c29ce5d5   3  31  100  3680   \n",
       "4   5  1538940657484  d8a906ae-3269-4014-a117-8157c29ce5d5   3  30  100  3755   \n",
       "\n",
       "   7   8   9       10  \n",
       "0  28   0   2  Li-ion  \n",
       "1  26   0   2  Li-ion  \n",
       "2  26   0   2  Li-ion  \n",
       "3  28   0   2  Li-ion  \n",
       "4  24   0   2  Li-ion  "
      ]
     },
     "execution_count": 28,
     "metadata": {},
     "output_type": "execute_result"
    }
   ],
   "source": [
    "bdf.head()"
   ]
  },
  {
   "cell_type": "code",
   "execution_count": 29,
   "metadata": {},
   "outputs": [],
   "source": [
    "bdf.columns = ['id', 'timestamp', 'device_id', 'battery_status', 'battery_level' , 'battery_scale',\n",
    "              'battery_voltage', 'battery_temperature', 'battery_adaptor', 'battery_health' , 'battery_technology']"
   ]
  },
  {
   "cell_type": "code",
   "execution_count": 30,
   "metadata": {},
   "outputs": [],
   "source": [
    "bdf.timestamp = bdf.timestamp.map(lambda x: pd.to_datetime(x, unit='ms'))"
   ]
  },
  {
   "cell_type": "code",
   "execution_count": 31,
   "metadata": {},
   "outputs": [
    {
     "data": {
      "text/html": [
       "<div>\n",
       "<style scoped>\n",
       "    .dataframe tbody tr th:only-of-type {\n",
       "        vertical-align: middle;\n",
       "    }\n",
       "\n",
       "    .dataframe tbody tr th {\n",
       "        vertical-align: top;\n",
       "    }\n",
       "\n",
       "    .dataframe thead th {\n",
       "        text-align: right;\n",
       "    }\n",
       "</style>\n",
       "<table border=\"1\" class=\"dataframe\">\n",
       "  <thead>\n",
       "    <tr style=\"text-align: right;\">\n",
       "      <th></th>\n",
       "      <th>id</th>\n",
       "      <th>timestamp</th>\n",
       "      <th>device_id</th>\n",
       "      <th>battery_status</th>\n",
       "      <th>battery_level</th>\n",
       "      <th>battery_scale</th>\n",
       "      <th>battery_voltage</th>\n",
       "      <th>battery_temperature</th>\n",
       "      <th>battery_adaptor</th>\n",
       "      <th>battery_health</th>\n",
       "      <th>battery_technology</th>\n",
       "    </tr>\n",
       "  </thead>\n",
       "  <tbody>\n",
       "    <tr>\n",
       "      <th>0</th>\n",
       "      <td>1</td>\n",
       "      <td>2018-10-07 19:11:39.373</td>\n",
       "      <td>d8a906ae-3269-4014-a117-8157c29ce5d5</td>\n",
       "      <td>3</td>\n",
       "      <td>34</td>\n",
       "      <td>100</td>\n",
       "      <td>3726</td>\n",
       "      <td>28</td>\n",
       "      <td>0</td>\n",
       "      <td>2</td>\n",
       "      <td>Li-ion</td>\n",
       "    </tr>\n",
       "    <tr>\n",
       "      <th>1</th>\n",
       "      <td>2</td>\n",
       "      <td>2018-10-07 19:14:30.153</td>\n",
       "      <td>d8a906ae-3269-4014-a117-8157c29ce5d5</td>\n",
       "      <td>3</td>\n",
       "      <td>33</td>\n",
       "      <td>100</td>\n",
       "      <td>3772</td>\n",
       "      <td>26</td>\n",
       "      <td>0</td>\n",
       "      <td>2</td>\n",
       "      <td>Li-ion</td>\n",
       "    </tr>\n",
       "    <tr>\n",
       "      <th>2</th>\n",
       "      <td>3</td>\n",
       "      <td>2018-10-07 19:20:49.408</td>\n",
       "      <td>d8a906ae-3269-4014-a117-8157c29ce5d5</td>\n",
       "      <td>3</td>\n",
       "      <td>32</td>\n",
       "      <td>100</td>\n",
       "      <td>3718</td>\n",
       "      <td>26</td>\n",
       "      <td>0</td>\n",
       "      <td>2</td>\n",
       "      <td>Li-ion</td>\n",
       "    </tr>\n",
       "    <tr>\n",
       "      <th>3</th>\n",
       "      <td>4</td>\n",
       "      <td>2018-10-07 19:23:25.968</td>\n",
       "      <td>d8a906ae-3269-4014-a117-8157c29ce5d5</td>\n",
       "      <td>3</td>\n",
       "      <td>31</td>\n",
       "      <td>100</td>\n",
       "      <td>3680</td>\n",
       "      <td>28</td>\n",
       "      <td>0</td>\n",
       "      <td>2</td>\n",
       "      <td>Li-ion</td>\n",
       "    </tr>\n",
       "    <tr>\n",
       "      <th>4</th>\n",
       "      <td>5</td>\n",
       "      <td>2018-10-07 19:30:57.484</td>\n",
       "      <td>d8a906ae-3269-4014-a117-8157c29ce5d5</td>\n",
       "      <td>3</td>\n",
       "      <td>30</td>\n",
       "      <td>100</td>\n",
       "      <td>3755</td>\n",
       "      <td>24</td>\n",
       "      <td>0</td>\n",
       "      <td>2</td>\n",
       "      <td>Li-ion</td>\n",
       "    </tr>\n",
       "  </tbody>\n",
       "</table>\n",
       "</div>"
      ],
      "text/plain": [
       "   id               timestamp                             device_id  \\\n",
       "0   1 2018-10-07 19:11:39.373  d8a906ae-3269-4014-a117-8157c29ce5d5   \n",
       "1   2 2018-10-07 19:14:30.153  d8a906ae-3269-4014-a117-8157c29ce5d5   \n",
       "2   3 2018-10-07 19:20:49.408  d8a906ae-3269-4014-a117-8157c29ce5d5   \n",
       "3   4 2018-10-07 19:23:25.968  d8a906ae-3269-4014-a117-8157c29ce5d5   \n",
       "4   5 2018-10-07 19:30:57.484  d8a906ae-3269-4014-a117-8157c29ce5d5   \n",
       "\n",
       "   battery_status  battery_level  battery_scale  battery_voltage  \\\n",
       "0               3             34            100             3726   \n",
       "1               3             33            100             3772   \n",
       "2               3             32            100             3718   \n",
       "3               3             31            100             3680   \n",
       "4               3             30            100             3755   \n",
       "\n",
       "   battery_temperature  battery_adaptor  battery_health battery_technology  \n",
       "0                   28                0               2             Li-ion  \n",
       "1                   26                0               2             Li-ion  \n",
       "2                   26                0               2             Li-ion  \n",
       "3                   28                0               2             Li-ion  \n",
       "4                   24                0               2             Li-ion  "
      ]
     },
     "execution_count": 31,
     "metadata": {},
     "output_type": "execute_result"
    }
   ],
   "source": [
    "bdf.head()"
   ]
  },
  {
   "cell_type": "code",
   "execution_count": 44,
   "metadata": {},
   "outputs": [],
   "source": [
    "bdf.to_csv('../mobile_data/battery_processed.csv', index=None)"
   ]
  },
  {
   "cell_type": "code",
   "execution_count": 45,
   "metadata": {},
   "outputs": [],
   "source": [
    "ldf = pd.read_csv('../mobile_data/locations_table.csv', header=None)"
   ]
  },
  {
   "cell_type": "code",
   "execution_count": 46,
   "metadata": {},
   "outputs": [],
   "source": [
    "ldf.columns = ['id', 'timestamp', 'device_id', 'latitude', 'longitude', 'bearing', 'speed', 'altitude', 'provider',\n",
    "              'accuracy', 'label']"
   ]
  },
  {
   "cell_type": "code",
   "execution_count": 47,
   "metadata": {},
   "outputs": [],
   "source": [
    "ldf.timestamp = ldf.timestamp.map(lambda x: pd.to_datetime(x, unit='ms'))"
   ]
  },
  {
   "cell_type": "code",
   "execution_count": 48,
   "metadata": {},
   "outputs": [
    {
     "data": {
      "text/html": [
       "<div>\n",
       "<style scoped>\n",
       "    .dataframe tbody tr th:only-of-type {\n",
       "        vertical-align: middle;\n",
       "    }\n",
       "\n",
       "    .dataframe tbody tr th {\n",
       "        vertical-align: top;\n",
       "    }\n",
       "\n",
       "    .dataframe thead th {\n",
       "        text-align: right;\n",
       "    }\n",
       "</style>\n",
       "<table border=\"1\" class=\"dataframe\">\n",
       "  <thead>\n",
       "    <tr style=\"text-align: right;\">\n",
       "      <th></th>\n",
       "      <th>id</th>\n",
       "      <th>timestamp</th>\n",
       "      <th>device_id</th>\n",
       "      <th>latitude</th>\n",
       "      <th>longitude</th>\n",
       "      <th>bearing</th>\n",
       "      <th>speed</th>\n",
       "      <th>altitude</th>\n",
       "      <th>provider</th>\n",
       "      <th>accuracy</th>\n",
       "      <th>label</th>\n",
       "    </tr>\n",
       "  </thead>\n",
       "  <tbody>\n",
       "    <tr>\n",
       "      <th>0</th>\n",
       "      <td>1</td>\n",
       "      <td>2018-10-07 19:19:00.832</td>\n",
       "      <td>d8a906ae-3269-4014-a117-8157c29ce5d5</td>\n",
       "      <td>40.443378</td>\n",
       "      <td>-79.944723</td>\n",
       "      <td>0.0</td>\n",
       "      <td>0.0</td>\n",
       "      <td>256.000000</td>\n",
       "      <td>gps</td>\n",
       "      <td>93.264</td>\n",
       "      <td>NaN</td>\n",
       "    </tr>\n",
       "    <tr>\n",
       "      <th>1</th>\n",
       "      <td>2</td>\n",
       "      <td>2018-10-07 19:19:00.870</td>\n",
       "      <td>d8a906ae-3269-4014-a117-8157c29ce5d5</td>\n",
       "      <td>40.443539</td>\n",
       "      <td>-79.944629</td>\n",
       "      <td>0.0</td>\n",
       "      <td>0.0</td>\n",
       "      <td>256.799988</td>\n",
       "      <td>network</td>\n",
       "      <td>19.562</td>\n",
       "      <td>NaN</td>\n",
       "    </tr>\n",
       "    <tr>\n",
       "      <th>2</th>\n",
       "      <td>3</td>\n",
       "      <td>2018-10-07 19:19:03.129</td>\n",
       "      <td>d8a906ae-3269-4014-a117-8157c29ce5d5</td>\n",
       "      <td>40.443529</td>\n",
       "      <td>-79.944629</td>\n",
       "      <td>0.0</td>\n",
       "      <td>0.0</td>\n",
       "      <td>256.799988</td>\n",
       "      <td>network</td>\n",
       "      <td>19.639</td>\n",
       "      <td>NaN</td>\n",
       "    </tr>\n",
       "    <tr>\n",
       "      <th>3</th>\n",
       "      <td>4</td>\n",
       "      <td>2018-10-07 19:21:16.831</td>\n",
       "      <td>d8a906ae-3269-4014-a117-8157c29ce5d5</td>\n",
       "      <td>40.443513</td>\n",
       "      <td>-79.944646</td>\n",
       "      <td>0.0</td>\n",
       "      <td>0.0</td>\n",
       "      <td>256.799988</td>\n",
       "      <td>network</td>\n",
       "      <td>19.612</td>\n",
       "      <td>NaN</td>\n",
       "    </tr>\n",
       "    <tr>\n",
       "      <th>4</th>\n",
       "      <td>5</td>\n",
       "      <td>2018-10-07 19:21:16.919</td>\n",
       "      <td>d8a906ae-3269-4014-a117-8157c29ce5d5</td>\n",
       "      <td>40.443513</td>\n",
       "      <td>-79.944646</td>\n",
       "      <td>0.0</td>\n",
       "      <td>0.0</td>\n",
       "      <td>256.799988</td>\n",
       "      <td>network</td>\n",
       "      <td>19.612</td>\n",
       "      <td>NaN</td>\n",
       "    </tr>\n",
       "  </tbody>\n",
       "</table>\n",
       "</div>"
      ],
      "text/plain": [
       "   id               timestamp                             device_id  \\\n",
       "0   1 2018-10-07 19:19:00.832  d8a906ae-3269-4014-a117-8157c29ce5d5   \n",
       "1   2 2018-10-07 19:19:00.870  d8a906ae-3269-4014-a117-8157c29ce5d5   \n",
       "2   3 2018-10-07 19:19:03.129  d8a906ae-3269-4014-a117-8157c29ce5d5   \n",
       "3   4 2018-10-07 19:21:16.831  d8a906ae-3269-4014-a117-8157c29ce5d5   \n",
       "4   5 2018-10-07 19:21:16.919  d8a906ae-3269-4014-a117-8157c29ce5d5   \n",
       "\n",
       "    latitude  longitude  bearing  speed    altitude provider  accuracy  label  \n",
       "0  40.443378 -79.944723      0.0    0.0  256.000000      gps    93.264    NaN  \n",
       "1  40.443539 -79.944629      0.0    0.0  256.799988  network    19.562    NaN  \n",
       "2  40.443529 -79.944629      0.0    0.0  256.799988  network    19.639    NaN  \n",
       "3  40.443513 -79.944646      0.0    0.0  256.799988  network    19.612    NaN  \n",
       "4  40.443513 -79.944646      0.0    0.0  256.799988  network    19.612    NaN  "
      ]
     },
     "execution_count": 48,
     "metadata": {},
     "output_type": "execute_result"
    }
   ],
   "source": [
    "ldf.head()"
   ]
  },
  {
   "cell_type": "code",
   "execution_count": 49,
   "metadata": {},
   "outputs": [],
   "source": [
    "ldf.to_csv('../mobile_data/locations_processed.csv', index=None)"
   ]
  },
  {
   "cell_type": "code",
   "execution_count": 50,
   "metadata": {},
   "outputs": [],
   "source": [
    "adf = pd.read_csv('../mobile_data/applications_foreground_table.csv', header=None)"
   ]
  },
  {
   "cell_type": "code",
   "execution_count": 54,
   "metadata": {},
   "outputs": [
    {
     "data": {
      "text/html": [
       "<div>\n",
       "<style scoped>\n",
       "    .dataframe tbody tr th:only-of-type {\n",
       "        vertical-align: middle;\n",
       "    }\n",
       "\n",
       "    .dataframe tbody tr th {\n",
       "        vertical-align: top;\n",
       "    }\n",
       "\n",
       "    .dataframe thead th {\n",
       "        text-align: right;\n",
       "    }\n",
       "</style>\n",
       "<table border=\"1\" class=\"dataframe\">\n",
       "  <thead>\n",
       "    <tr style=\"text-align: right;\">\n",
       "      <th></th>\n",
       "      <th>id</th>\n",
       "      <th>timestamp</th>\n",
       "      <th>device_id</th>\n",
       "      <th>package_name</th>\n",
       "      <th>application_name</th>\n",
       "      <th>is_system_app</th>\n",
       "    </tr>\n",
       "  </thead>\n",
       "  <tbody>\n",
       "    <tr>\n",
       "      <th>0</th>\n",
       "      <td>1</td>\n",
       "      <td>2018-10-08 23:24:36.926</td>\n",
       "      <td>d8a906ae-3269-4014-a117-8157c29ce5d5</td>\n",
       "      <td>com.aware.phone</td>\n",
       "      <td>AWARE</td>\n",
       "      <td>0</td>\n",
       "    </tr>\n",
       "    <tr>\n",
       "      <th>1</th>\n",
       "      <td>2</td>\n",
       "      <td>2018-10-08 23:25:06.215</td>\n",
       "      <td>d8a906ae-3269-4014-a117-8157c29ce5d5</td>\n",
       "      <td>com.android.vending</td>\n",
       "      <td>Google Play Store</td>\n",
       "      <td>1</td>\n",
       "    </tr>\n",
       "    <tr>\n",
       "      <th>2</th>\n",
       "      <td>3</td>\n",
       "      <td>2018-10-08 23:25:10.512</td>\n",
       "      <td>d8a906ae-3269-4014-a117-8157c29ce5d5</td>\n",
       "      <td>com.android.systemui</td>\n",
       "      <td>System UI</td>\n",
       "      <td>1</td>\n",
       "    </tr>\n",
       "    <tr>\n",
       "      <th>3</th>\n",
       "      <td>4</td>\n",
       "      <td>2018-10-08 23:25:11.381</td>\n",
       "      <td>d8a906ae-3269-4014-a117-8157c29ce5d5</td>\n",
       "      <td>com.aware.phone</td>\n",
       "      <td>AWARE</td>\n",
       "      <td>0</td>\n",
       "    </tr>\n",
       "    <tr>\n",
       "      <th>4</th>\n",
       "      <td>5</td>\n",
       "      <td>2018-10-08 23:25:17.941</td>\n",
       "      <td>d8a906ae-3269-4014-a117-8157c29ce5d5</td>\n",
       "      <td>com.google.android.packageinstaller</td>\n",
       "      <td>Package installer</td>\n",
       "      <td>1</td>\n",
       "    </tr>\n",
       "  </tbody>\n",
       "</table>\n",
       "</div>"
      ],
      "text/plain": [
       "   id               timestamp                             device_id  \\\n",
       "0   1 2018-10-08 23:24:36.926  d8a906ae-3269-4014-a117-8157c29ce5d5   \n",
       "1   2 2018-10-08 23:25:06.215  d8a906ae-3269-4014-a117-8157c29ce5d5   \n",
       "2   3 2018-10-08 23:25:10.512  d8a906ae-3269-4014-a117-8157c29ce5d5   \n",
       "3   4 2018-10-08 23:25:11.381  d8a906ae-3269-4014-a117-8157c29ce5d5   \n",
       "4   5 2018-10-08 23:25:17.941  d8a906ae-3269-4014-a117-8157c29ce5d5   \n",
       "\n",
       "                          package_name   application_name  is_system_app  \n",
       "0                      com.aware.phone              AWARE              0  \n",
       "1                  com.android.vending  Google Play Store              1  \n",
       "2                 com.android.systemui          System UI              1  \n",
       "3                      com.aware.phone              AWARE              0  \n",
       "4  com.google.android.packageinstaller  Package installer              1  "
      ]
     },
     "execution_count": 54,
     "metadata": {},
     "output_type": "execute_result"
    }
   ],
   "source": [
    "adf.head()"
   ]
  },
  {
   "cell_type": "code",
   "execution_count": 52,
   "metadata": {},
   "outputs": [],
   "source": [
    "adf.columns = ['id', 'timestamp', 'device_id', 'package_name', 'application_name', 'is_system_app']"
   ]
  },
  {
   "cell_type": "code",
   "execution_count": 53,
   "metadata": {},
   "outputs": [],
   "source": [
    "adf.timestamp = adf.timestamp.map(lambda x: pd.to_datetime(x, unit='ms'))\n"
   ]
  },
  {
   "cell_type": "code",
   "execution_count": 55,
   "metadata": {},
   "outputs": [],
   "source": [
    "adf.to_csv('../mobile_data/applications_foreground_processed.csv', index=None)"
   ]
  },
  {
   "cell_type": "code",
   "execution_count": 61,
   "metadata": {},
   "outputs": [],
   "source": [
    "adf['day'] = adf.timestamp.map(lambda x: x.day)"
   ]
  },
  {
   "cell_type": "code",
   "execution_count": 62,
   "metadata": {},
   "outputs": [
    {
     "data": {
      "text/html": [
       "<div>\n",
       "<style scoped>\n",
       "    .dataframe tbody tr th:only-of-type {\n",
       "        vertical-align: middle;\n",
       "    }\n",
       "\n",
       "    .dataframe tbody tr th {\n",
       "        vertical-align: top;\n",
       "    }\n",
       "\n",
       "    .dataframe thead th {\n",
       "        text-align: right;\n",
       "    }\n",
       "</style>\n",
       "<table border=\"1\" class=\"dataframe\">\n",
       "  <thead>\n",
       "    <tr style=\"text-align: right;\">\n",
       "      <th></th>\n",
       "      <th>id</th>\n",
       "      <th>timestamp</th>\n",
       "      <th>device_id</th>\n",
       "      <th>package_name</th>\n",
       "      <th>application_name</th>\n",
       "      <th>is_system_app</th>\n",
       "      <th>day</th>\n",
       "    </tr>\n",
       "  </thead>\n",
       "  <tbody>\n",
       "    <tr>\n",
       "      <th>0</th>\n",
       "      <td>1</td>\n",
       "      <td>2018-10-08 23:24:36.926</td>\n",
       "      <td>d8a906ae-3269-4014-a117-8157c29ce5d5</td>\n",
       "      <td>com.aware.phone</td>\n",
       "      <td>AWARE</td>\n",
       "      <td>0</td>\n",
       "      <td>8</td>\n",
       "    </tr>\n",
       "    <tr>\n",
       "      <th>1</th>\n",
       "      <td>2</td>\n",
       "      <td>2018-10-08 23:25:06.215</td>\n",
       "      <td>d8a906ae-3269-4014-a117-8157c29ce5d5</td>\n",
       "      <td>com.android.vending</td>\n",
       "      <td>Google Play Store</td>\n",
       "      <td>1</td>\n",
       "      <td>8</td>\n",
       "    </tr>\n",
       "    <tr>\n",
       "      <th>2</th>\n",
       "      <td>3</td>\n",
       "      <td>2018-10-08 23:25:10.512</td>\n",
       "      <td>d8a906ae-3269-4014-a117-8157c29ce5d5</td>\n",
       "      <td>com.android.systemui</td>\n",
       "      <td>System UI</td>\n",
       "      <td>1</td>\n",
       "      <td>8</td>\n",
       "    </tr>\n",
       "    <tr>\n",
       "      <th>3</th>\n",
       "      <td>4</td>\n",
       "      <td>2018-10-08 23:25:11.381</td>\n",
       "      <td>d8a906ae-3269-4014-a117-8157c29ce5d5</td>\n",
       "      <td>com.aware.phone</td>\n",
       "      <td>AWARE</td>\n",
       "      <td>0</td>\n",
       "      <td>8</td>\n",
       "    </tr>\n",
       "    <tr>\n",
       "      <th>4</th>\n",
       "      <td>5</td>\n",
       "      <td>2018-10-08 23:25:17.941</td>\n",
       "      <td>d8a906ae-3269-4014-a117-8157c29ce5d5</td>\n",
       "      <td>com.google.android.packageinstaller</td>\n",
       "      <td>Package installer</td>\n",
       "      <td>1</td>\n",
       "      <td>8</td>\n",
       "    </tr>\n",
       "  </tbody>\n",
       "</table>\n",
       "</div>"
      ],
      "text/plain": [
       "   id               timestamp                             device_id  \\\n",
       "0   1 2018-10-08 23:24:36.926  d8a906ae-3269-4014-a117-8157c29ce5d5   \n",
       "1   2 2018-10-08 23:25:06.215  d8a906ae-3269-4014-a117-8157c29ce5d5   \n",
       "2   3 2018-10-08 23:25:10.512  d8a906ae-3269-4014-a117-8157c29ce5d5   \n",
       "3   4 2018-10-08 23:25:11.381  d8a906ae-3269-4014-a117-8157c29ce5d5   \n",
       "4   5 2018-10-08 23:25:17.941  d8a906ae-3269-4014-a117-8157c29ce5d5   \n",
       "\n",
       "                          package_name   application_name  is_system_app  day  \n",
       "0                      com.aware.phone              AWARE              0    8  \n",
       "1                  com.android.vending  Google Play Store              1    8  \n",
       "2                 com.android.systemui          System UI              1    8  \n",
       "3                      com.aware.phone              AWARE              0    8  \n",
       "4  com.google.android.packageinstaller  Package installer              1    8  "
      ]
     },
     "execution_count": 62,
     "metadata": {},
     "output_type": "execute_result"
    }
   ],
   "source": [
    "adf.head()"
   ]
  },
  {
   "cell_type": "code",
   "execution_count": 63,
   "metadata": {},
   "outputs": [],
   "source": [
    "sdf['day'] = sdf.timestamp.map(lambda x: x.day)"
   ]
  },
  {
   "cell_type": "code",
   "execution_count": 64,
   "metadata": {},
   "outputs": [],
   "source": [
    "ldf['day'] = ldf.timestamp.map(lambda x: x.day)"
   ]
  },
  {
   "cell_type": "code",
   "execution_count": 69,
   "metadata": {},
   "outputs": [],
   "source": [
    "adf_dc = pd.DataFrame(adf.groupby('day')['id'].count())\n",
    "ldf_dc  = pd.DataFrame(ldf.groupby('day')['id'].count())\n",
    "sdf_dc = pd.DataFrame(sdf.groupby('day')['id'].count())"
   ]
  },
  {
   "cell_type": "code",
   "execution_count": 72,
   "metadata": {},
   "outputs": [],
   "source": [
    "m = adf_dc.merge(ldf_dc, how='outer', left_index=True, right_index=True).merge(sdf_dc, how='outer', left_index=True, right_index=True)"
   ]
  },
  {
   "cell_type": "code",
   "execution_count": 73,
   "metadata": {},
   "outputs": [],
   "source": [
    "m.columns = ['app_usage', 'location', 'significant_movements']"
   ]
  },
  {
   "cell_type": "code",
   "execution_count": 75,
   "metadata": {},
   "outputs": [],
   "source": [
    "m = m.fillna(0)"
   ]
  },
  {
   "cell_type": "code",
   "execution_count": 78,
   "metadata": {},
   "outputs": [],
   "source": [
    "m.reset_index().to_csv('../mobile_data/records.csv', index=None)"
   ]
  },
  {
   "cell_type": "code",
   "execution_count": 81,
   "metadata": {},
   "outputs": [
    {
     "data": {
      "image/png": "[encoded data removed]",
      "text/plain": [
       "<Figure size 432x288 with 1 Axes>"
      ]
     },
     "metadata": {
      "needs_background": "light"
     },
     "output_type": "display_data"
    }
   ],
   "source": [
    "m.plot()\n",
    "plt.show()"
   ]
  }
 ],
 "metadata": {
  "kernelspec": {
   "display_name": "Python 3",
   "language": "python",
   "name": "python3"
  },
  "language_info": {
   "codemirror_mode": {
    "name": "ipython",
    "version": 3
   },
   "file_extension": ".py",
   "mimetype": "text/x-python",
   "name": "python",
   "nbconvert_exporter": "python",
   "pygments_lexer": "ipython3",
   "version": "3.7.0"
  }
 },
 "nbformat": 4,
 "nbformat_minor": 2
}
